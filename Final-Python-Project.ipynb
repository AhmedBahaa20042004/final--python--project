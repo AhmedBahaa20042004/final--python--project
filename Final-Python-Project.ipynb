{
 "cells": [
  {
   "cell_type": "code",
   "execution_count": 14,
   "id": "21c4a5cd-8956-4ae9-a5ed-28a1e025c18e",
   "metadata": {},
   "outputs": [],
   "source": [
    "# Employee Class\n",
    "class Employee:\n",
    "    def __init__(self, employeeID, name, position, salary, email):\n",
    "        self.employeeID = employeeID\n",
    "        self.name = name\n",
    "        self.position = position\n",
    "        self.salary = salary\n",
    "        self.email = email\n",
    "        return f\"ID: {self.employeeID}, Name: {self.name}, Position: {self.position}, Salary: {self.salary}, Email: {self.email}\""
   ]
  },
  {
   "cell_type": "code",
   "execution_count": 16,
   "id": "0fb73b58-b5f7-4551-aa12-3473f36e2b32",
   "metadata": {},
   "outputs": [],
   "source": [
    "# EmployeeManager Class\n",
    "class EmployeeManager:\n",
    "    def __init__(self, fileName=\"Employees.csv\"):\n",
    "        self.fileName = fileName\n",
    "        self.employees = dict()\n",
    "    def saveData(self):\n",
    "        with open(self.fileName, mode='w', newline='') as file:\n",
    "            writer = csv.writer(file)\n",
    "            writer.writerow(['Employee ID', 'Name', 'Position', 'Salary', 'Email'])\n",
    "            for employee in self.employees.values():\n",
    "                writer.writerow([employee.employeeID, employee.name, employee.position, employee.salary, employee.email])\n",
    "    def addEmployee(self, employeeID, name, position, salary, email):\n",
    "        if employeeID in self.employees:\n",
    "            print('This ID Already Exists!')\n",
    "        else:\n",
    "            self.employees[employeeID] = Employee(employeeID, name, position, salary, email)\n",
    "            self.saveData()\n",
    "            print(\"Employee added successfully.\")\n",
    "    def updateEmployee(self, employeeID, **kwargs):\n",
    "        if employeeID not in self.employees:\n",
    "            print('Employee ID Not Found!')\n",
    "            return\n",
    "        else:\n",
    "            emp = self.employees[employeeID]\n",
    "            for key, value in kwargs.items():\n",
    "                if hasattr(emp, key):\n",
    "                    setattr(emp, key, value)\n",
    "            self.saveData()\n",
    "            print(\"Employee updated successfully.\")\n",
    "    def deleteEmployee(self, employeeID):\n",
    "        if employeeID in self.employees:\n",
    "            del self.employees[employeeID]\n",
    "            self.saveData()\n",
    "            print('Employee Deleted Successfully!')\n",
    "        else:\n",
    "            print('Employee Not Found!')\n",
    "    def searchEmployee(self, employeeID):\n",
    "        return self.employees.get(employeeID, None)\n",
    "    def listEmployees(self):\n",
    "        if not self.employees:\n",
    "            print(\"No employees found.\")\n",
    "        else:\n",
    "            for emp in self.employees.values():\n",
    "                print(emp.display())      "
   ]
  },
  {
   "cell_type": "code",
   "execution_count": 18,
   "id": "37fe5808-9c5f-4f92-910e-940b9ff2ab6c",
   "metadata": {},
   "outputs": [
    {
     "name": "stdout",
     "output_type": "stream",
     "text": [
      "\n",
      "Employee Data Management System\n",
      "1. Add Employee\n",
      "2. Update Employee\n",
      "3. Delete Employee\n",
      "4. Search Employee\n",
      "5. List Employees\n",
      "6. Exit\n"
     ]
    },
    {
     "name": "stdin",
     "output_type": "stream",
     "text": [
      "Choose an option:  1\n",
      "Enter Employee ID:  30404222200251\n",
      "Enter Name:  Ahmed\n",
      "Enter Position:  AI developer\n",
      "Enter Salary:  10000\n",
      "Enter Email:  ahmed@gmail.com\n"
     ]
    },
    {
     "ename": "TypeError",
     "evalue": "__init__() should return None, not 'str'",
     "output_type": "error",
     "traceback": [
      "\u001b[1;31m---------------------------------------------------------------------------\u001b[0m",
      "\u001b[1;31mTypeError\u001b[0m                                 Traceback (most recent call last)",
      "Cell \u001b[1;32mIn[18], line 11\u001b[0m\n\u001b[0;32m      9\u001b[0m     salary \u001b[38;5;241m=\u001b[39m \u001b[38;5;28minput\u001b[39m(\u001b[38;5;124m\"\u001b[39m\u001b[38;5;124mEnter Salary: \u001b[39m\u001b[38;5;124m\"\u001b[39m)\n\u001b[0;32m     10\u001b[0m     email \u001b[38;5;241m=\u001b[39m \u001b[38;5;28minput\u001b[39m(\u001b[38;5;124m\"\u001b[39m\u001b[38;5;124mEnter Email: \u001b[39m\u001b[38;5;124m\"\u001b[39m)\n\u001b[1;32m---> 11\u001b[0m     manager\u001b[38;5;241m.\u001b[39maddEmployee(employeeID, name, position, salary, email)\n\u001b[0;32m     12\u001b[0m \u001b[38;5;28;01melif\u001b[39;00m choice \u001b[38;5;241m==\u001b[39m \u001b[38;5;124m'\u001b[39m\u001b[38;5;124m2\u001b[39m\u001b[38;5;124m'\u001b[39m:\n\u001b[0;32m     13\u001b[0m     employeeID \u001b[38;5;241m=\u001b[39m \u001b[38;5;28minput\u001b[39m(\u001b[38;5;124m\"\u001b[39m\u001b[38;5;124mEnter Employee ID to update: \u001b[39m\u001b[38;5;124m\"\u001b[39m)\n",
      "Cell \u001b[1;32mIn[16], line 16\u001b[0m, in \u001b[0;36mEmployeeManager.addEmployee\u001b[1;34m(self, employeeID, name, position, salary, email)\u001b[0m\n\u001b[0;32m     14\u001b[0m     \u001b[38;5;28mprint\u001b[39m(\u001b[38;5;124m'\u001b[39m\u001b[38;5;124mThis ID Already Exists!\u001b[39m\u001b[38;5;124m'\u001b[39m)\n\u001b[0;32m     15\u001b[0m \u001b[38;5;28;01melse\u001b[39;00m:\n\u001b[1;32m---> 16\u001b[0m     \u001b[38;5;28mself\u001b[39m\u001b[38;5;241m.\u001b[39memployees[employeeID] \u001b[38;5;241m=\u001b[39m Employee(employeeID, name, position, salary, email)\n\u001b[0;32m     17\u001b[0m     \u001b[38;5;28mself\u001b[39m\u001b[38;5;241m.\u001b[39msaveData()\n\u001b[0;32m     18\u001b[0m     \u001b[38;5;28mprint\u001b[39m(\u001b[38;5;124m\"\u001b[39m\u001b[38;5;124mEmployee added successfully.\u001b[39m\u001b[38;5;124m\"\u001b[39m)\n",
      "\u001b[1;31mTypeError\u001b[0m: __init__() should return None, not 'str'"
     ]
    }
   ],
   "source": [
    "manager = EmployeeManager()\n",
    "while True:\n",
    "    print(\"\\nEmployee Data Management System\\n1. Add Employee\\n2. Update Employee\\n3. Delete Employee\\n4. Search Employee\\n5. List Employees\\n6. Exit\")\n",
    "    choice = input(\"Choose an option: \")\n",
    "    if choice == '1':\n",
    "        employeeID = input(\"Enter Employee ID: \")\n",
    "        name = input(\"Enter Name: \")\n",
    "        position = input(\"Enter Position: \")\n",
    "        salary = input(\"Enter Salary: \")\n",
    "        email = input(\"Enter Email: \")\n",
    "        manager.addEmployee(employeeID, name, position, salary, email)\n",
    "    elif choice == '2':\n",
    "        employeeID = input(\"Enter Employee ID to update: \")\n",
    "        name = input(\"Enter new Name (leave empty to skip): \")\n",
    "        position = input(\"Enter new Position (leave empty to skip): \")\n",
    "        salary = input(\"Enter new Salary (leave empty to skip): \")\n",
    "        email = input(\"Enter new Email (leave empty to skip): \")\n",
    "        updates = {}\n",
    "        if name:\n",
    "            updates['name'] = name\n",
    "        if position:\n",
    "            updates['position'] = position\n",
    "        if salary:\n",
    "            updates['salary'] = salary\n",
    "        if email:\n",
    "            updates['email'] = email\n",
    "        manager.updateEmployee(employeeID, **updates)\n",
    "    elif choice == '3':\n",
    "        employeeID = input(\"Enter Employee ID to delete: \")\n",
    "        manager.deleteEmployee(employeeID)\n",
    "    elif choice == '4':\n",
    "        employeeID = input(\"Enter Employee ID to search: \")\n",
    "        emp = manager.searchEmployee(employeeID)\n",
    "        if emp:\n",
    "            print(emp.display())\n",
    "        else:\n",
    "            print(\"Employee not found.\")\n",
    "    elif choice == '5':\n",
    "        manager.listEmployees()\n",
    "    elif choice == '6':\n",
    "        print(\"Exiting the program.\")\n",
    "        break\n",
    "    else:\n",
    "        print(\"Invalid option. Please try again.\")"
   ]
  },
  {
   "cell_type": "code",
   "execution_count": null,
   "id": "3b8f2f90-af9c-4f97-8117-fbf6e209e3a5",
   "metadata": {},
   "outputs": [],
   "source": []
  }
 ],
 "metadata": {
  "kernelspec": {
   "display_name": "Python 3 (ipykernel)",
   "language": "python",
   "name": "python3"
  },
  "language_info": {
   "codemirror_mode": {
    "name": "ipython",
    "version": 3
   },
   "file_extension": ".py",
   "mimetype": "text/x-python",
   "name": "python",
   "nbconvert_exporter": "python",
   "pygments_lexer": "ipython3",
   "version": "3.12.4"
  }
 },
 "nbformat": 4,
 "nbformat_minor": 5
}
